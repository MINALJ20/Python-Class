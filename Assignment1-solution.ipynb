{
 "cells": [
  {
   "cell_type": "code",
   "execution_count": null,
   "id": "64f10878-4a8d-4ba5-b7d5-a661df8d5f1e",
   "metadata": {},
   "outputs": [],
   "source": [
    "#  Therotical questions and answer\n",
    "\n",
    "Q1. Why do we call Python as a general purpose and high-level programming language?\n",
    "=> Because they are not written in machine-readable language, \n",
    "   Python programs need to be processed before machines can run them. \n",
    "   Python is an interpreted language. \n",
    "   This means that every time a program is run, its interpreter runs through the code and translates it into machine-readable byte code.\n",
    "\n",
    "Q2. Why is Python called a dynamically typed language? \n",
    "=> As in python, the type of the variable is determined only during runtime hence it it called dynamically typed language.\n",
    "\n",
    "Q3. List some pros and cons of Python programming language?\n",
    "=>\n",
    "Pros: \n",
    "    -Python is a portable programming language which is easy to learn and read and enhances productivity. \n",
    "    -Python has a vast collection of libraries. \n",
    "    -Python is free, open-source, and has a vibrant community. \n",
    "    -Python is an interpreted language.\n",
    "\n",
    "Cons:\n",
    "    -Poor Memory Efficiency. \n",
    "    -Slow Speed. Database Access.\n",
    "    -Weak in Mobile Computing. Runtime Errors.\n",
    "    \n",
    "Q4. In what all domains can we use Python?\n",
    "=> artificial intelligence, machine learning and deep learning also as a fundamental tool for data scientist.\n",
    "\n",
    "Q5. What are variable and how can we declare them? \n",
    "=> -variable is a symbolic name that is a reference or pointer to an object. \n",
    "   -In python, A variable is created the moment you first assign a value to it.\n",
    "\n",
    "Q6. How can we take an input from the user in Python? \n",
    "=>  To receive information through the keyboard, Python uses the input() function.\n",
    "\n",
    "Q7. What is the default datatype of the value that has been taken as an input using input() function? \n",
    "=>  By default, input returns a string.\n",
    "\n",
    "Q8. What is type casting? \n",
    "=>  Converting one datatype into another is known as type casting.\n",
    "\n",
    "Q9. Can we take more than one input from the user using single input() function? If yes, how? If no, why? \n",
    "=>  No. \n",
    "    python user input() function takes only one argument. \n",
    "    Although split() method can be use to take the more input from the user.\n",
    "\n",
    "Q10. What are keywords? \n",
    "=>   Python keywords are special reserved words that have specific meanings and purposes.\n",
    "\n",
    "Q11. Can we use keywords as a variable? Support your answer with reason. \n",
    "=>   we cannot use a keyword as a variable name, function name or any other identifier. \n",
    "     They are used to define the syntax and structure of the Python language.\n",
    "\n",
    "Q12. What is indentation? What's the use of indentaion in Python? \n",
    "=>   Indentation refers to the spaces at the beginning of a code line. \n",
    "     Python uses indentation to indicate a block of code.\n",
    "\n",
    "Q13. How can we throw some output in Python? \n",
    "=>   we can throw output in python by using print statement. \n",
    "     To end the printed line with a newline, add a print statement without any objects.\n",
    "\n",
    "Q14. What are operators in Python? \n",
    "=>   Operator is a symbol that performs certain operations. \n",
    "     Python provides the following set of operators\n",
    "\n",
    "    Arithmetic Operators\n",
    "    Relational Operators or Comparison Operators\n",
    "    Logical operators\n",
    "    Bitwise oeprators\n",
    "    Assignment operators\n",
    "    Special operators\n",
    "        \n",
    "Q15. What is difference between / and // operators? \n",
    "=>  1. / Operator\n",
    "    - / is an division operator.\n",
    "    - / operator is used Divides left hand operand by right hand operand\n",
    "    \n",
    "    2. // operator\n",
    "    - // is a Floor Division operator.\n",
    "    - //operator is used to The division of \n",
    "        operands where the result is the quotient in which the digits after the decimal point are removed.\n",
    "\n",
    "Q18. What are boolean operator? \n",
    "=> Boolean operator is a operation, where there is only two possible values as a return output\n",
    "    1. True 2. False\n",
    "\n",
    "Q20. What are conditional statements in Python? \n",
    "=> It is used to handle conditions in the program. \n",
    "   These statements guide the program while making decisions based on the conditions encountered by the program. \n",
    "   Python has 3 key Conditional Statements :-\n",
    "        if statement.\n",
    "        if-else statement.\n",
    "        Nested if statement.\n",
    "        \n",
    "Q21. What is use of 'if', 'elif' and 'else' keywords? \n",
    "=>   It allows us to check for multiple expressions. \n",
    "     If the condition for if is False , it checks the condition of the next elif block and so on. \n",
    "     If all the conditions are False , the body of else is executed."
   ]
  },
  {
   "cell_type": "code",
   "execution_count": 2,
   "id": "35e4aa90-6dd2-46ed-ac95-547468aa4ba8",
   "metadata": {},
   "outputs": [
    {
     "name": "stdout",
     "output_type": "stream",
     "text": [
      "iNeuroniNeuroniNeuroniNeuron\n"
     ]
    }
   ],
   "source": [
    "# Q16. Write a code that gives following as an output.\n",
    "# iNeuroniNeuroniNeuroniNeuron\n",
    "name = \"iNeuron\" * 4\n",
    "print(name)"
   ]
  },
  {
   "cell_type": "code",
   "execution_count": 2,
   "id": "dc271f7f-47fe-4e21-b39c-deff85d7d694",
   "metadata": {},
   "outputs": [
    {
     "name": "stdin",
     "output_type": "stream",
     "text": [
      "Enter the number =  4\n"
     ]
    },
    {
     "name": "stdout",
     "output_type": "stream",
     "text": [
      "Number is even.\n"
     ]
    }
   ],
   "source": [
    "# Q17. Write a code to take a number as an input from the user and check if the number is odd or even. \n",
    "number = int(input(\"Enter the number = \")) \n",
    "if number%2==0: \n",
    "    print(\"Number is even.\") \n",
    "else: \n",
    "    print(\"Number is Odd.\")"
   ]
  },
  {
   "cell_type": "code",
   "execution_count": 5,
   "id": "1db3e4cf-28b9-4e82-9ed9-a99eb531fa23",
   "metadata": {},
   "outputs": [
    {
     "name": "stdout",
     "output_type": "stream",
     "text": [
      "1\n",
      "0\n",
      "False\n",
      "1\n"
     ]
    }
   ],
   "source": [
    "# Q19. What will the output of the following?\n",
    "# 1 or 0\n",
    "print(1 or 0)\n",
    "\n",
    "# 0 and 0\n",
    "print(0 and 0)\n",
    "\n",
    "# True and False and True\n",
    "print(True and False and True)\n",
    "\n",
    "# 1 or 0 or 0\n",
    "print(1 or 0 or 0)"
   ]
  },
  {
   "cell_type": "code",
   "execution_count": 7,
   "id": "9527b0f8-c3db-49c3-96b7-037a700478f5",
   "metadata": {},
   "outputs": [
    {
     "name": "stdin",
     "output_type": "stream",
     "text": [
      "Enter the age =  24\n"
     ]
    },
    {
     "name": "stdout",
     "output_type": "stream",
     "text": [
      "I can vote\n"
     ]
    }
   ],
   "source": [
    "# Q22. Write a code to take the age of person as an input and if age >= 18 display \"I can vote\". If age is < 18 display \"I can't vote\". \n",
    "age=int(input(\"Enter the age = \")) \n",
    "if age>=18: \n",
    "    print(\"I can vote\") \n",
    "else: \n",
    "    print(\"I can't vote\")"
   ]
  },
  {
   "cell_type": "code",
   "execution_count": 9,
   "id": "0dc11f81-5bf7-4110-8b2b-0d3e96e88736",
   "metadata": {},
   "outputs": [
    {
     "name": "stdout",
     "output_type": "stream",
     "text": [
      "392\n"
     ]
    }
   ],
   "source": [
    "# Q23. Write a code that displays the sum of all the even numbers from the given list.\n",
    "# numbers = [12, 75, 150, 180, 145, 525, 50]\n",
    "\n",
    "I=[12, 75, 150, 180, 145, 525, 50] \n",
    "sum=0 \n",
    "for i in I: \n",
    "    if i%2==0: \n",
    "        sum+=i \n",
    "print(sum)"
   ]
  },
  {
   "cell_type": "code",
   "execution_count": 3,
   "id": "9473a3ef-f84b-41d9-838d-9270559b2c16",
   "metadata": {},
   "outputs": [
    {
     "name": "stdin",
     "output_type": "stream",
     "text": [
      "Enter first number: 23\n",
      "Enter second number: 645\n",
      "Enter third number: 353454545\n"
     ]
    },
    {
     "name": "stdout",
     "output_type": "stream",
     "text": [
      "The greatest number from entered three number is: 353454545\n"
     ]
    }
   ],
   "source": [
    "# Q24. Write a code to take 3 numbers as an input from the user and display the greatest no as output. \n",
    "number1 = int(input(\"Enter first number:\"))\n",
    "number2 = int(input(\"Enter second number:\"))\n",
    "number3 = int(input(\"Enter third number:\"))\n",
    "\n",
    "greatest_number = 0\n",
    "\n",
    "if number1 > number2 and number1 > number3:\n",
    "    greatest_number = number1\n",
    "elif number2 > number1 and number2 > number3:\n",
    "    greatest_number = number2\n",
    "else:\n",
    "    greatest_number = number3\n",
    "\n",
    "print(\"The greatest number from entered three number is:\", greatest_number)"
   ]
  },
  {
   "cell_type": "code",
   "execution_count": 12,
   "id": "8ff3efa0-62da-4f33-a504-33496cc7f328",
   "metadata": {},
   "outputs": [
    {
     "name": "stdout",
     "output_type": "stream",
     "text": [
      "75\n",
      "150\n",
      "145\n"
     ]
    }
   ],
   "source": [
    "# Q25. Write a program to display only those numbers from a list that satisfy the following conditions\n",
    "# The number must be divisible by five\n",
    "# If the number is greater than 150, then skip it and move to the next number\n",
    "# If the number is greater than 500, then stop the loop\n",
    "# numbers = [12, 75, 150, 180, 145, 525, 50]\n",
    "\n",
    "numbers = [12, 75, 150, 180, 145, 525, 50] \n",
    "for i in numbers: \n",
    "    if i > 500: \n",
    "        break \n",
    "    elif i > 150: \n",
    "        continue \n",
    "    elif i % 5 == 0: \n",
    "        print(i)"
   ]
  },
  {
   "cell_type": "code",
   "execution_count": null,
   "id": "35b952ca-d9c3-4761-9bdf-b032c75efa49",
   "metadata": {},
   "outputs": [],
   "source": []
  }
 ],
 "metadata": {
  "kernelspec": {
   "display_name": "Python 3 (ipykernel)",
   "language": "python",
   "name": "python3"
  },
  "language_info": {
   "codemirror_mode": {
    "name": "ipython",
    "version": 3
   },
   "file_extension": ".py",
   "mimetype": "text/x-python",
   "name": "python",
   "nbconvert_exporter": "python",
   "pygments_lexer": "ipython3",
   "version": "3.10.6"
  }
 },
 "nbformat": 4,
 "nbformat_minor": 5
}
